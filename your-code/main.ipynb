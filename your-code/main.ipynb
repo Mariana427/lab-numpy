{
 "cells": [
  {
   "cell_type": "markdown",
   "metadata": {},
   "source": [
    "# Intrduction to NumPy\n",
    "\n",
    "\n",
    "#### 1. Import NumPy under the name np."
   ]
  },
  {
   "cell_type": "code",
   "execution_count": 1,
   "metadata": {},
   "outputs": [],
   "source": [
    "# your code here\n",
    "import numpy as np"
   ]
  },
  {
   "cell_type": "markdown",
   "metadata": {},
   "source": [
    "#### 2. Print your NumPy version."
   ]
  },
  {
   "cell_type": "code",
   "execution_count": 2,
   "metadata": {},
   "outputs": [
    {
     "name": "stdout",
     "output_type": "stream",
     "text": [
      "1.16.4\n"
     ]
    }
   ],
   "source": [
    "# your code here\n",
    "print(np.__version__)"
   ]
  },
  {
   "cell_type": "markdown",
   "metadata": {},
   "source": [
    "#### 3. Generate a 2x3x5 3-dimensional array with random values. Assign the array to variable *a*.\n",
    "**Challenge**: there are at least three easy ways that use numpy to generate random arrays. How many ways can you find?"
   ]
  },
  {
   "cell_type": "code",
   "execution_count": 3,
   "metadata": {},
   "outputs": [
    {
     "name": "stdout",
     "output_type": "stream",
     "text": [
      "[[[0.84587921 0.29252778 0.57070497 0.65240627 0.37317908]\n",
      "  [0.55788655 0.62444182 0.38204227 0.04873328 0.89902611]\n",
      "  [0.4864411  0.16238665 0.33596758 0.05824694 0.67092549]]\n",
      "\n",
      " [[0.71687209 0.60200739 0.00283419 0.89567352 0.14441945]\n",
      "  [0.46371708 0.84934601 0.49174351 0.63897446 0.53933532]\n",
      "  [0.90002211 0.31320269 0.35448749 0.03827492 0.43152991]]]\n"
     ]
    }
   ],
   "source": [
    "# Method 1\n",
    "a=np.random.random((2,3,5))\n",
    "print(a)"
   ]
  },
  {
   "cell_type": "code",
   "execution_count": 4,
   "metadata": {},
   "outputs": [
    {
     "data": {
      "text/plain": [
       "array([[[0., 0., 0., 0., 0.],\n",
       "        [0., 0., 0., 0., 0.],\n",
       "        [0., 0., 0., 0., 0.]],\n",
       "\n",
       "       [[0., 0., 0., 0., 0.],\n",
       "        [0., 0., 0., 0., 0.],\n",
       "        [0., 0., 0., 0., 0.]]])"
      ]
     },
     "execution_count": 4,
     "metadata": {},
     "output_type": "execute_result"
    }
   ],
   "source": [
    "# Method 2\n",
    "np.zeros((2,3,5))"
   ]
  },
  {
   "cell_type": "code",
   "execution_count": 5,
   "metadata": {},
   "outputs": [
    {
     "data": {
      "text/plain": [
       "array([0, 1, 2, 3, 4])"
      ]
     },
     "execution_count": 5,
     "metadata": {},
     "output_type": "execute_result"
    }
   ],
   "source": [
    "# Method 3\n",
    "np.arange(5)"
   ]
  },
  {
   "cell_type": "markdown",
   "metadata": {},
   "source": [
    "#### 4. Print *a*.\n"
   ]
  },
  {
   "cell_type": "code",
   "execution_count": 6,
   "metadata": {
    "scrolled": true
   },
   "outputs": [
    {
     "name": "stdout",
     "output_type": "stream",
     "text": [
      "[[[0.84587921 0.29252778 0.57070497 0.65240627 0.37317908]\n",
      "  [0.55788655 0.62444182 0.38204227 0.04873328 0.89902611]\n",
      "  [0.4864411  0.16238665 0.33596758 0.05824694 0.67092549]]\n",
      "\n",
      " [[0.71687209 0.60200739 0.00283419 0.89567352 0.14441945]\n",
      "  [0.46371708 0.84934601 0.49174351 0.63897446 0.53933532]\n",
      "  [0.90002211 0.31320269 0.35448749 0.03827492 0.43152991]]]\n"
     ]
    }
   ],
   "source": [
    "# your code here\n",
    "print(a)"
   ]
  },
  {
   "cell_type": "markdown",
   "metadata": {},
   "source": [
    "#### 5. Create a 5x2x3 3-dimensional array with all values equaling 1. Assign the array to variable *b*."
   ]
  },
  {
   "cell_type": "code",
   "execution_count": 7,
   "metadata": {},
   "outputs": [],
   "source": [
    "# your code here\n",
    "b=np.full((5,2,3), 1)"
   ]
  },
  {
   "cell_type": "markdown",
   "metadata": {},
   "source": [
    "#### 6. Print *b*.\n"
   ]
  },
  {
   "cell_type": "code",
   "execution_count": 8,
   "metadata": {},
   "outputs": [
    {
     "name": "stdout",
     "output_type": "stream",
     "text": [
      "[[[1 1 1]\n",
      "  [1 1 1]]\n",
      "\n",
      " [[1 1 1]\n",
      "  [1 1 1]]\n",
      "\n",
      " [[1 1 1]\n",
      "  [1 1 1]]\n",
      "\n",
      " [[1 1 1]\n",
      "  [1 1 1]]\n",
      "\n",
      " [[1 1 1]\n",
      "  [1 1 1]]]\n"
     ]
    }
   ],
   "source": [
    "# your code here\n",
    "print(b)"
   ]
  },
  {
   "cell_type": "markdown",
   "metadata": {},
   "source": [
    "#### 7. Do *a* and *b* have the same size? How do you prove that in Python code?"
   ]
  },
  {
   "cell_type": "code",
   "execution_count": 9,
   "metadata": {},
   "outputs": [
    {
     "name": "stdout",
     "output_type": "stream",
     "text": [
      "30\n",
      "30\n"
     ]
    }
   ],
   "source": [
    "# your code here\n",
    "print(a.size)\n",
    "print(b.size)"
   ]
  },
  {
   "cell_type": "markdown",
   "metadata": {},
   "source": [
    "#### 8. Are you able to add *a* and *b*? Why or why not?\n"
   ]
  },
  {
   "cell_type": "code",
   "execution_count": 10,
   "metadata": {},
   "outputs": [
    {
     "name": "stdout",
     "output_type": "stream",
     "text": [
      "(2, 3, 5)\n",
      "(5, 2, 3)\n"
     ]
    }
   ],
   "source": [
    "# your answer here\n",
    "\n",
    "print(a.shape)\n",
    "print(b.shape)\n",
    "\n",
    "#It's not possible to add a and b because the 3º dimention of the elements is different."
   ]
  },
  {
   "cell_type": "markdown",
   "metadata": {},
   "source": [
    "#### 9. Transpose *b* so that it has the same structure of *a* (i.e. become a 2x3x5 array). Assign the transposed array to variable *c*."
   ]
  },
  {
   "cell_type": "code",
   "execution_count": 11,
   "metadata": {},
   "outputs": [],
   "source": [
    "# your code here\n",
    "c=(np.reshape(b,(2,3,5)))\n"
   ]
  },
  {
   "cell_type": "markdown",
   "metadata": {},
   "source": [
    "#### 10. Try to add *a* and *c*. Now it should work. Assign the sum to variable *d*. But why does it work now?"
   ]
  },
  {
   "cell_type": "code",
   "execution_count": 12,
   "metadata": {},
   "outputs": [
    {
     "name": "stdout",
     "output_type": "stream",
     "text": [
      "[[[1.84587921 1.29252778 1.57070497 1.65240627 1.37317908]\n",
      "  [1.55788655 1.62444182 1.38204227 1.04873328 1.89902611]\n",
      "  [1.4864411  1.16238665 1.33596758 1.05824694 1.67092549]]\n",
      "\n",
      " [[1.71687209 1.60200739 1.00283419 1.89567352 1.14441945]\n",
      "  [1.46371708 1.84934601 1.49174351 1.63897446 1.53933532]\n",
      "  [1.90002211 1.31320269 1.35448749 1.03827492 1.43152991]]]\n"
     ]
    }
   ],
   "source": [
    "# your code/answer here\n",
    "d = a + c\n",
    "print(d)\n"
   ]
  },
  {
   "cell_type": "markdown",
   "metadata": {},
   "source": [
    "#### 11. Print *a* and *d*. Notice the difference and relation of the two array in terms of the values? Explain."
   ]
  },
  {
   "cell_type": "code",
   "execution_count": 13,
   "metadata": {},
   "outputs": [
    {
     "name": "stdout",
     "output_type": "stream",
     "text": [
      "[[[0.84587921 0.29252778 0.57070497 0.65240627 0.37317908]\n",
      "  [0.55788655 0.62444182 0.38204227 0.04873328 0.89902611]\n",
      "  [0.4864411  0.16238665 0.33596758 0.05824694 0.67092549]]\n",
      "\n",
      " [[0.71687209 0.60200739 0.00283419 0.89567352 0.14441945]\n",
      "  [0.46371708 0.84934601 0.49174351 0.63897446 0.53933532]\n",
      "  [0.90002211 0.31320269 0.35448749 0.03827492 0.43152991]]]\n",
      "[[[1.84587921 1.29252778 1.57070497 1.65240627 1.37317908]\n",
      "  [1.55788655 1.62444182 1.38204227 1.04873328 1.89902611]\n",
      "  [1.4864411  1.16238665 1.33596758 1.05824694 1.67092549]]\n",
      "\n",
      " [[1.71687209 1.60200739 1.00283419 1.89567352 1.14441945]\n",
      "  [1.46371708 1.84934601 1.49174351 1.63897446 1.53933532]\n",
      "  [1.90002211 1.31320269 1.35448749 1.03827492 1.43152991]]]\n"
     ]
    }
   ],
   "source": [
    "# your code/answer here\n",
    "print(a)\n",
    "print(d)\n",
    "\n",
    "#The array d as bigger values than the array a as expected. "
   ]
  },
  {
   "cell_type": "markdown",
   "metadata": {},
   "source": [
    "#### 12. Multiply *a* and *c*. Assign the result to *e*."
   ]
  },
  {
   "cell_type": "code",
   "execution_count": 14,
   "metadata": {},
   "outputs": [
    {
     "name": "stdout",
     "output_type": "stream",
     "text": [
      "[[[0.84587921 0.29252778 0.57070497 0.65240627 0.37317908]\n",
      "  [0.55788655 0.62444182 0.38204227 0.04873328 0.89902611]\n",
      "  [0.4864411  0.16238665 0.33596758 0.05824694 0.67092549]]\n",
      "\n",
      " [[0.71687209 0.60200739 0.00283419 0.89567352 0.14441945]\n",
      "  [0.46371708 0.84934601 0.49174351 0.63897446 0.53933532]\n",
      "  [0.90002211 0.31320269 0.35448749 0.03827492 0.43152991]]]\n"
     ]
    }
   ],
   "source": [
    "# your code here\n",
    "e=a*c\n",
    "print(e)"
   ]
  },
  {
   "cell_type": "markdown",
   "metadata": {},
   "source": [
    "#### 13. Does *e* equal to *a*? Why or why not?\n"
   ]
  },
  {
   "cell_type": "code",
   "execution_count": 15,
   "metadata": {},
   "outputs": [],
   "source": [
    "# your code/answer here\n",
    "# Yes.The array e is the product of array a and c. \n",
    "# The array c is compose by 1, therefore when we multiply the array a by 1 we obtain the same result."
   ]
  },
  {
   "cell_type": "markdown",
   "metadata": {},
   "source": [
    "#### 14. Identify the max, min, and mean values in *d*. Assign those values to variables *d_max*, *d_min* and *d_mean*."
   ]
  },
  {
   "cell_type": "code",
   "execution_count": 16,
   "metadata": {},
   "outputs": [
    {
     "name": "stdout",
     "output_type": "stream",
     "text": [
      "1.9000221112598892\n",
      "1.002834191288266\n",
      "1.4781078413388036\n"
     ]
    }
   ],
   "source": [
    "# your code here\n",
    "d_max=np.max(d)\n",
    "d_min=np.min(d)\n",
    "d_mean=np.mean(d)\n",
    "\n",
    "print(d_max)\n",
    "print(d_min)\n",
    "print(d_mean)"
   ]
  },
  {
   "cell_type": "markdown",
   "metadata": {},
   "source": [
    "#### 15. Now we want to label the values in *d*. First create an empty array *f* with the same shape (i.e. 2x3x5) as *d* using `np.empty`.\n"
   ]
  },
  {
   "cell_type": "code",
   "execution_count": 17,
   "metadata": {},
   "outputs": [],
   "source": [
    "# your code here\n",
    "f = np.empty([2,3,5], dtype = int)\n"
   ]
  },
  {
   "cell_type": "markdown",
   "metadata": {},
   "source": [
    "#### 16. Populate the values in *f*. \n",
    "\n",
    "For each value in *d*, if it's larger than *d_min* but smaller than *d_mean*, assign 25 to the corresponding value in *f*. If a value in *d* is larger than *d_mean* but smaller than *d_max*, assign 75 to the corresponding value in *f*. If a value equals to *d_mean*, assign 50 to the corresponding value in *f*. Assign 0 to the corresponding value(s) in *f* for *d_min* in *d*. Assign 100 to the corresponding value(s) in *f* for *d_max* in *d*. In the end, f should have only the following values: 0, 25, 50, 75, and 100.\n",
    "\n",
    "**Note**: you don't have to use Numpy in this question."
   ]
  },
  {
   "cell_type": "code",
   "execution_count": 18,
   "metadata": {},
   "outputs": [
    {
     "name": "stdout",
     "output_type": "stream",
     "text": [
      "[[[75 25 75 75 25]\n",
      "  [75 75 25 25 75]\n",
      "  [75 25 25 25 75]]\n",
      "\n",
      " [[75 75  0 75 25]\n",
      "  [25 75 75 75 75]\n",
      "  [ 0 25 25 25 25]]]\n"
     ]
    }
   ],
   "source": [
    "# your code here\n",
    "\n",
    "f[(d_min < d) & (d < d_mean)] = 25\n",
    "\n",
    "f[(d_mean < d) & (d < d_max)] = 75\n",
    "\n",
    "f[d == d.mean] = 50\n",
    "    \n",
    "f[d == d.min] = 0\n",
    "    \n",
    "f[d == d.max] = 100\n",
    "       \n",
    "                   \n",
    "print((f))"
   ]
  },
  {
   "cell_type": "markdown",
   "metadata": {},
   "source": [
    "#### 17. Print *d* and *f*. Do you have your expected *f*?\n",
    "For instance, if your *d* is:\n",
    "```python\n",
    "[[[1.85836099, 1.67064465, 1.62576044, 1.40243961, 1.88454931],\n",
    "[1.75354326, 1.69403643, 1.36729252, 1.61415071, 1.12104981],\n",
    "[1.72201435, 1.1862918 , 1.87078449, 1.7726778 , 1.88180042]],\n",
    "[[1.44747908, 1.31673383, 1.02000951, 1.52218947, 1.97066381],\n",
    "[1.79129243, 1.74983003, 1.96028037, 1.85166831, 1.65450881],\n",
    "[1.18068344, 1.9587381 , 1.00656599, 1.93402165, 1.73514584]]]\n",
    "```\n",
    "Your *f* should be:\n",
    "```python\n",
    "[[[ 75.,  75.,  75.,  25.,  75.],\n",
    "[ 75.,  75.,  25.,  25.,  25.],\n",
    "[ 75.,  25.,  75.,  75.,  75.]],\n",
    "[[ 25.,  25.,  25.,  25., 100.],\n",
    "[ 75.,  75.,  75.,  75.,  75.],\n",
    "[ 25.,  75.,   0.,  75.,  75.]]]\n",
    "```"
   ]
  },
  {
   "cell_type": "code",
   "execution_count": 19,
   "metadata": {},
   "outputs": [
    {
     "name": "stdout",
     "output_type": "stream",
     "text": [
      "[[[1.84587921 1.29252778 1.57070497 1.65240627 1.37317908]\n",
      "  [1.55788655 1.62444182 1.38204227 1.04873328 1.89902611]\n",
      "  [1.4864411  1.16238665 1.33596758 1.05824694 1.67092549]]\n",
      "\n",
      " [[1.71687209 1.60200739 1.00283419 1.89567352 1.14441945]\n",
      "  [1.46371708 1.84934601 1.49174351 1.63897446 1.53933532]\n",
      "  [1.90002211 1.31320269 1.35448749 1.03827492 1.43152991]]]\n",
      "[[[75 25 75 75 25]\n",
      "  [75 75 25 25 75]\n",
      "  [75 25 25 25 75]]\n",
      "\n",
      " [[75 75  0 75 25]\n",
      "  [25 75 75 75 75]\n",
      "  [ 0 25 25 25 25]]]\n"
     ]
    }
   ],
   "source": [
    "# your code here\n",
    "print(d)\n",
    "\n",
    "print(f)"
   ]
  },
  {
   "cell_type": "markdown",
   "metadata": {},
   "source": [
    "#### 18. Bonus question: instead of using numbers (i.e. 0, 25, 50, 75, and 100), use string values  (\"A\", \"B\", \"C\", \"D\", and \"E\") to label the array elements. For the example above, the expected result is:\n",
    "\n",
    "```python\n",
    "[[[ 'D',  'D',  'D',  'B',  'D'],\n",
    "[ 'D',  'D',  'B',  'B',  'B'],\n",
    "[ 'D',  'B',  'D',  'D',  'D']],\n",
    "[[ 'B',  'B',  'B',  'B',  'E'],\n",
    "[ 'D',  'D',  'D',  'D',  'D'],\n",
    "[ 'B',  'D',   'A',  'D', 'D']]]\n",
    "```\n",
    "**Note**: you don't have to use Numpy in this question."
   ]
  },
  {
   "cell_type": "code",
   "execution_count": 28,
   "metadata": {},
   "outputs": [
    {
     "name": "stdout",
     "output_type": "stream",
     "text": [
      "[[['B' 'A' 'B' 'B' 'A']\n",
      "  ['B' 'B' 'A' 'A' 'B']\n",
      "  ['B' 'A' 'A' 'A' 'B']]\n",
      "\n",
      " [['B' 'B' '' 'B' 'A']\n",
      "  ['A' 'B' 'B' 'B' 'B']\n",
      "  ['' 'A' 'A' 'A' 'A']]]\n"
     ]
    }
   ],
   "source": [
    "# your code here\n",
    "\n",
    "o = np.empty([2,3,5], dtype = str)\n",
    "\n",
    "o[(d_min < d) & (d < d_mean)] = \"A\"\n",
    "\n",
    "o[(d_mean < d) & (d < d_max)] = \"B\"\n",
    "\n",
    "o[d == d.mean] = \"C\"\n",
    "    \n",
    "o[d == d.min] = \"D\"\n",
    "    \n",
    "o[d == d.max] = \"E\"\n",
    "\n",
    "print(o)"
   ]
  },
  {
   "cell_type": "code",
   "execution_count": null,
   "metadata": {},
   "outputs": [],
   "source": []
  }
 ],
 "metadata": {
  "kernelspec": {
   "display_name": "Python 3",
   "language": "python",
   "name": "python3"
  },
  "language_info": {
   "codemirror_mode": {
    "name": "ipython",
    "version": 3
   },
   "file_extension": ".py",
   "mimetype": "text/x-python",
   "name": "python",
   "nbconvert_exporter": "python",
   "pygments_lexer": "ipython3",
   "version": "3.7.3"
  }
 },
 "nbformat": 4,
 "nbformat_minor": 2
}
